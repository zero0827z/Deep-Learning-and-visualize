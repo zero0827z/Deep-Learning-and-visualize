{
 "cells": [
  {
   "cell_type": "markdown",
   "metadata": {},
   "source": [
    "## 『本次練習內容』\n",
    "#### 運用這幾天所學觀念搭建一個CNN分類器"
   ]
  },
  {
   "cell_type": "markdown",
   "metadata": {},
   "source": [
    "## 『本次練習目的』\n",
    "  #### 熟悉CNN分類器搭建步驟與原理\n",
    "  #### 學員們可以嘗試不同搭法，如使用不同的Maxpooling層，用GlobalAveragePooling取代Flatten等等"
   ]
  },
  {
   "cell_type": "code",
   "execution_count": 9,
   "metadata": {},
   "outputs": [],
   "source": [
    "from keras.models import Sequential\n",
    "from keras.layers import Convolution2D\n",
    "from keras.layers import MaxPooling2D\n",
    "from keras.layers import Flatten\n",
    "from keras.layers import Dense\n",
    "from keras.layers import Dropout\n",
    "from keras.layers import BatchNormalization\n",
    "from keras.datasets import cifar10\n",
    "import numpy as np\n",
    "import tensorflow as tf\n",
    "from sklearn.preprocessing import OneHotEncoder\n"
   ]
  },
  {
   "cell_type": "code",
   "execution_count": 2,
   "metadata": {},
   "outputs": [
    {
     "name": "stdout",
     "output_type": "stream",
     "text": [
      "Downloading data from https://www.cs.toronto.edu/~kriz/cifar-10-python.tar.gz\n",
      "170500096/170498071 [==============================] - 20s 0us/step\n",
      "(50000, 32, 32, 3)\n"
     ]
    }
   ],
   "source": [
    "(x_train, y_train), (x_test, y_test) = cifar10.load_data()\n",
    "\n",
    "print(x_train.shape) #(50000, 32, 32, 3)\n",
    "\n",
    "## Normalize Data\n",
    "def normalize(X_train,X_test):\n",
    "        mean = np.mean(X_train,axis=(0,1,2,3))\n",
    "        std = np.std(X_train, axis=(0, 1, 2, 3))\n",
    "        X_train = (X_train-mean)/(std+1e-7)\n",
    "        X_test = (X_test-mean)/(std+1e-7) \n",
    "        return X_train, X_test,mean,std\n",
    "    \n",
    "    \n",
    "## Normalize Training and Testset    \n",
    "x_train, x_test,mean_train,std_train = normalize(x_train, x_test) "
   ]
  },
  {
   "cell_type": "code",
   "execution_count": 3,
   "metadata": {},
   "outputs": [
    {
     "name": "stderr",
     "output_type": "stream",
     "text": [
      "D:\\Anaconda3\\lib\\site-packages\\sklearn\\preprocessing\\_encoders.py:415: FutureWarning: The handling of integer data will change in version 0.22. Currently, the categories are determined based on the range [0, max(values)], while in the future they will be determined based on the unique values.\n",
      "If you want the future behaviour and silence this warning, you can specify \"categories='auto'\".\n",
      "In case you used a LabelEncoder before this OneHotEncoder to convert the categories to integers, then you can now use the OneHotEncoder directly.\n",
      "  warnings.warn(msg, FutureWarning)\n"
     ]
    }
   ],
   "source": [
    "## OneHot Label 由(None, 1)-(None, 10)\n",
    "## ex. label=2,變成[0,0,1,0,0,0,0,0,0,0]\n",
    "one_hot=OneHotEncoder()\n",
    "y_train=one_hot.fit_transform(y_train).toarray()\n",
    "y_test=one_hot.transform(y_test).toarray()"
   ]
  },
  {
   "cell_type": "code",
   "execution_count": 15,
   "metadata": {},
   "outputs": [
    {
     "name": "stdout",
     "output_type": "stream",
     "text": [
      "Epoch 1/100\n",
      "50000/50000 [==============================] - 64s 1ms/step - loss: 1.4810 - accuracy: 0.5260\n",
      "Epoch 2/100\n",
      "50000/50000 [==============================] - 64s 1ms/step - loss: 0.9346 - accuracy: 0.6755\n",
      "Epoch 3/100\n",
      "50000/50000 [==============================] - 64s 1ms/step - loss: 0.7598 - accuracy: 0.7354\n",
      "Epoch 4/100\n",
      "50000/50000 [==============================] - 64s 1ms/step - loss: 0.6450 - accuracy: 0.7743\n",
      "Epoch 5/100\n",
      "50000/50000 [==============================] - 67s 1ms/step - loss: 0.5444 - accuracy: 0.8067\n",
      "Epoch 6/100\n",
      "50000/50000 [==============================] - 77s 2ms/step - loss: 0.4472 - accuracy: 0.8434\n",
      "Epoch 7/100\n",
      "50000/50000 [==============================] - 75s 2ms/step - loss: 0.3783 - accuracy: 0.8653\n",
      "Epoch 8/100\n",
      "50000/50000 [==============================] - 75s 2ms/step - loss: 0.3133 - accuracy: 0.8890\n",
      "Epoch 9/100\n",
      "50000/50000 [==============================] - 75s 2ms/step - loss: 0.2546 - accuracy: 0.9110\n",
      "Epoch 10/100\n",
      "50000/50000 [==============================] - 72s 1ms/step - loss: 0.2171 - accuracy: 0.9242\n",
      "Epoch 11/100\n",
      "50000/50000 [==============================] - 69s 1ms/step - loss: 0.1934 - accuracy: 0.9310\n",
      "Epoch 12/100\n",
      "50000/50000 [==============================] - 71s 1ms/step - loss: 0.1753 - accuracy: 0.9388\n",
      "Epoch 13/100\n",
      "50000/50000 [==============================] - 72s 1ms/step - loss: 0.1503 - accuracy: 0.9484\n",
      "Epoch 14/100\n",
      "50000/50000 [==============================] - 72s 1ms/step - loss: 0.1217 - accuracy: 0.9580\n",
      "Epoch 15/100\n",
      "50000/50000 [==============================] - 72s 1ms/step - loss: 0.1321 - accuracy: 0.9545\n",
      "Epoch 16/100\n",
      "50000/50000 [==============================] - 72s 1ms/step - loss: 0.1291 - accuracy: 0.9566\n",
      "Epoch 17/100\n",
      "50000/50000 [==============================] - 72s 1ms/step - loss: 0.1067 - accuracy: 0.9638\n",
      "Epoch 18/100\n",
      "50000/50000 [==============================] - 72s 1ms/step - loss: 0.0917 - accuracy: 0.9687\n",
      "Epoch 19/100\n",
      "50000/50000 [==============================] - 73s 1ms/step - loss: 0.1016 - accuracy: 0.9646\n",
      "Epoch 20/100\n",
      "50000/50000 [==============================] - 74s 1ms/step - loss: 0.0849 - accuracy: 0.9713\n",
      "Epoch 21/100\n",
      "50000/50000 [==============================] - 74s 1ms/step - loss: 0.0947 - accuracy: 0.9673\n",
      "Epoch 22/100\n",
      "50000/50000 [==============================] - 74s 1ms/step - loss: 0.0880 - accuracy: 0.9702\n",
      "Epoch 23/100\n",
      "50000/50000 [==============================] - 76s 2ms/step - loss: 0.0822 - accuracy: 0.9714\n",
      "Epoch 24/100\n",
      "50000/50000 [==============================] - 81s 2ms/step - loss: 0.0709 - accuracy: 0.9766\n",
      "Epoch 25/100\n",
      "50000/50000 [==============================] - 86s 2ms/step - loss: 0.0679 - accuracy: 0.9771\n",
      "Epoch 26/100\n",
      "50000/50000 [==============================] - 84s 2ms/step - loss: 0.0709 - accuracy: 0.9760\n",
      "Epoch 27/100\n",
      "50000/50000 [==============================] - 84s 2ms/step - loss: 0.0716 - accuracy: 0.9767\n",
      "Epoch 28/100\n",
      "50000/50000 [==============================] - 84s 2ms/step - loss: 0.0737 - accuracy: 0.9762\n",
      "Epoch 29/100\n",
      "50000/50000 [==============================] - 72s 1ms/step - loss: 0.0664 - accuracy: 0.9780\n",
      "Epoch 30/100\n",
      "50000/50000 [==============================] - 65s 1ms/step - loss: 0.0611 - accuracy: 0.9800\n",
      "Epoch 31/100\n",
      "50000/50000 [==============================] - 65s 1ms/step - loss: 0.0525 - accuracy: 0.9822\n",
      "Epoch 32/100\n",
      "50000/50000 [==============================] - 65s 1ms/step - loss: 0.0562 - accuracy: 0.9810\n",
      "Epoch 33/100\n",
      "50000/50000 [==============================] - 64s 1ms/step - loss: 0.0602 - accuracy: 0.9800\n",
      "Epoch 34/100\n",
      "50000/50000 [==============================] - 65s 1ms/step - loss: 0.0487 - accuracy: 0.9837\n",
      "Epoch 35/100\n",
      "50000/50000 [==============================] - 66s 1ms/step - loss: 0.0503 - accuracy: 0.9832\n",
      "Epoch 36/100\n",
      "50000/50000 [==============================] - 64s 1ms/step - loss: 0.0584 - accuracy: 0.9816\n",
      "Epoch 37/100\n",
      "50000/50000 [==============================] - 65s 1ms/step - loss: 0.0536 - accuracy: 0.9833\n",
      "Epoch 38/100\n",
      "50000/50000 [==============================] - 65s 1ms/step - loss: 0.0455 - accuracy: 0.9849\n",
      "Epoch 39/100\n",
      "50000/50000 [==============================] - 64s 1ms/step - loss: 0.0520 - accuracy: 0.9829\n",
      "Epoch 40/100\n",
      "50000/50000 [==============================] - 65s 1ms/step - loss: 0.0439 - accuracy: 0.9861\n",
      "Epoch 41/100\n",
      "50000/50000 [==============================] - 65s 1ms/step - loss: 0.0458 - accuracy: 0.9853\n",
      "Epoch 42/100\n",
      "50000/50000 [==============================] - 64s 1ms/step - loss: 0.0608 - accuracy: 0.9810\n",
      "Epoch 43/100\n",
      "50000/50000 [==============================] - 65s 1ms/step - loss: 0.0389 - accuracy: 0.9875\n",
      "Epoch 44/100\n",
      "50000/50000 [==============================] - 64s 1ms/step - loss: 0.0396 - accuracy: 0.9862\n",
      "Epoch 45/100\n",
      "50000/50000 [==============================] - 65s 1ms/step - loss: 0.0363 - accuracy: 0.9886\n",
      "Epoch 46/100\n",
      "50000/50000 [==============================] - 64s 1ms/step - loss: 0.0414 - accuracy: 0.9865\n",
      "Epoch 47/100\n",
      "50000/50000 [==============================] - 65s 1ms/step - loss: 0.0508 - accuracy: 0.9846\n",
      "Epoch 48/100\n",
      "50000/50000 [==============================] - 64s 1ms/step - loss: 0.0406 - accuracy: 0.9872\n",
      "Epoch 49/100\n",
      "50000/50000 [==============================] - 65s 1ms/step - loss: 0.0235 - accuracy: 0.9923\n",
      "Epoch 50/100\n",
      "50000/50000 [==============================] - 65s 1ms/step - loss: 0.0316 - accuracy: 0.9898\n",
      "Epoch 51/100\n",
      "50000/50000 [==============================] - 65s 1ms/step - loss: 0.0492 - accuracy: 0.9847\n",
      "Epoch 52/100\n",
      "50000/50000 [==============================] - 64s 1ms/step - loss: 0.0425 - accuracy: 0.9873\n",
      "Epoch 53/100\n",
      "50000/50000 [==============================] - 65s 1ms/step - loss: 0.0368 - accuracy: 0.9888\n",
      "Epoch 54/100\n",
      "50000/50000 [==============================] - 65s 1ms/step - loss: 0.0347 - accuracy: 0.9891\n",
      "Epoch 55/100\n",
      "50000/50000 [==============================] - 64s 1ms/step - loss: 0.0350 - accuracy: 0.9886\n",
      "Epoch 56/100\n",
      "50000/50000 [==============================] - 65s 1ms/step - loss: 0.0341 - accuracy: 0.9886\n",
      "Epoch 57/100\n",
      "50000/50000 [==============================] - 64s 1ms/step - loss: 0.0385 - accuracy: 0.9880\n",
      "Epoch 58/100\n",
      "50000/50000 [==============================] - 65s 1ms/step - loss: 0.0335 - accuracy: 0.9889\n",
      "Epoch 59/100\n",
      "50000/50000 [==============================] - 65s 1ms/step - loss: 0.0299 - accuracy: 0.9907\n",
      "Epoch 60/100\n",
      "50000/50000 [==============================] - 65s 1ms/step - loss: 0.0283 - accuracy: 0.9911\n",
      "Epoch 61/100\n",
      "50000/50000 [==============================] - 65s 1ms/step - loss: 0.0250 - accuracy: 0.9918\n",
      "Epoch 62/100\n",
      "50000/50000 [==============================] - 65s 1ms/step - loss: 0.0329 - accuracy: 0.9893\n",
      "Epoch 63/100\n",
      "50000/50000 [==============================] - 65s 1ms/step - loss: 0.0413 - accuracy: 0.9877\n",
      "Epoch 64/100\n",
      "50000/50000 [==============================] - 66s 1ms/step - loss: 0.0290 - accuracy: 0.9908\n",
      "Epoch 65/100\n",
      "50000/50000 [==============================] - 65s 1ms/step - loss: 0.0283 - accuracy: 0.9912\n",
      "Epoch 66/100\n",
      "50000/50000 [==============================] - 65s 1ms/step - loss: 0.0298 - accuracy: 0.9908\n",
      "Epoch 67/100\n",
      "50000/50000 [==============================] - 65s 1ms/step - loss: 0.0308 - accuracy: 0.9899\n",
      "Epoch 68/100\n",
      "50000/50000 [==============================] - 65s 1ms/step - loss: 0.0270 - accuracy: 0.9916\n",
      "Epoch 69/100\n",
      "50000/50000 [==============================] - 65s 1ms/step - loss: 0.0242 - accuracy: 0.9921\n",
      "Epoch 70/100\n",
      "50000/50000 [==============================] - 65s 1ms/step - loss: 0.0384 - accuracy: 0.9885\n",
      "Epoch 71/100\n",
      "50000/50000 [==============================] - 65s 1ms/step - loss: 0.0214 - accuracy: 0.9934\n",
      "Epoch 72/100\n",
      "50000/50000 [==============================] - 65s 1ms/step - loss: 0.0235 - accuracy: 0.9926\n",
      "Epoch 73/100\n",
      "50000/50000 [==============================] - 66s 1ms/step - loss: 0.0287 - accuracy: 0.9912\n",
      "Epoch 74/100\n",
      "50000/50000 [==============================] - 65s 1ms/step - loss: 0.0310 - accuracy: 0.9904\n",
      "Epoch 75/100\n",
      "50000/50000 [==============================] - 65s 1ms/step - loss: 0.0246 - accuracy: 0.9923\n",
      "Epoch 76/100\n",
      "50000/50000 [==============================] - 65s 1ms/step - loss: 0.0256 - accuracy: 0.9920\n",
      "Epoch 77/100\n"
     ]
    },
    {
     "name": "stdout",
     "output_type": "stream",
     "text": [
      "50000/50000 [==============================] - 65s 1ms/step - loss: 0.0238 - accuracy: 0.9924\n",
      "Epoch 78/100\n",
      "50000/50000 [==============================] - 65s 1ms/step - loss: 0.0287 - accuracy: 0.9911\n",
      "Epoch 79/100\n",
      "50000/50000 [==============================] - 64s 1ms/step - loss: 0.0232 - accuracy: 0.9928\n",
      "Epoch 80/100\n",
      "50000/50000 [==============================] - 65s 1ms/step - loss: 0.0197 - accuracy: 0.9937\n",
      "Epoch 81/100\n",
      "50000/50000 [==============================] - 64s 1ms/step - loss: 0.0264 - accuracy: 0.9917\n",
      "Epoch 82/100\n",
      "50000/50000 [==============================] - 65s 1ms/step - loss: 0.0273 - accuracy: 0.9918\n",
      "Epoch 83/100\n",
      "50000/50000 [==============================] - 64s 1ms/step - loss: 0.0255 - accuracy: 0.9917\n",
      "Epoch 84/100\n",
      "50000/50000 [==============================] - 65s 1ms/step - loss: 0.0211 - accuracy: 0.9931\n",
      "Epoch 85/100\n",
      "50000/50000 [==============================] - 67s 1ms/step - loss: 0.0195 - accuracy: 0.9934\n",
      "Epoch 86/100\n",
      "50000/50000 [==============================] - 65s 1ms/step - loss: 0.0186 - accuracy: 0.9942\n",
      "Epoch 87/100\n",
      "50000/50000 [==============================] - 65s 1ms/step - loss: 0.0209 - accuracy: 0.9935\n",
      "Epoch 88/100\n",
      "50000/50000 [==============================] - 65s 1ms/step - loss: 0.0298 - accuracy: 0.9912\n",
      "Epoch 89/100\n",
      "50000/50000 [==============================] - 65s 1ms/step - loss: 0.0265 - accuracy: 0.9916\n",
      "Epoch 90/100\n",
      "50000/50000 [==============================] - 65s 1ms/step - loss: 0.0211 - accuracy: 0.9937\n",
      "Epoch 91/100\n",
      "50000/50000 [==============================] - 66s 1ms/step - loss: 0.0193 - accuracy: 0.9940\n",
      "Epoch 92/100\n",
      "50000/50000 [==============================] - 64s 1ms/step - loss: 0.0181 - accuracy: 0.9943\n",
      "Epoch 93/100\n",
      "50000/50000 [==============================] - 65s 1ms/step - loss: 0.0197 - accuracy: 0.9938\n",
      "Epoch 94/100\n",
      "50000/50000 [==============================] - 65s 1ms/step - loss: 0.0251 - accuracy: 0.9926\n",
      "Epoch 95/100\n",
      "50000/50000 [==============================] - 65s 1ms/step - loss: 0.0210 - accuracy: 0.9933\n",
      "Epoch 96/100\n",
      "50000/50000 [==============================] - 65s 1ms/step - loss: 0.0183 - accuracy: 0.9938\n",
      "Epoch 97/100\n",
      "50000/50000 [==============================] - 65s 1ms/step - loss: 0.0215 - accuracy: 0.9930\n",
      "Epoch 98/100\n",
      "50000/50000 [==============================] - 64s 1ms/step - loss: 0.0198 - accuracy: 0.9940\n",
      "Epoch 99/100\n",
      "50000/50000 [==============================] - 65s 1ms/step - loss: 0.0179 - accuracy: 0.9943\n",
      "Epoch 100/100\n",
      "50000/50000 [==============================] - 65s 1ms/step - loss: 0.0211 - accuracy: 0.9934\n"
     ]
    },
    {
     "data": {
      "text/plain": [
       "<keras.callbacks.callbacks.History at 0x26e851287c8>"
      ]
     },
     "execution_count": 15,
     "metadata": {},
     "output_type": "execute_result"
    }
   ],
   "source": [
    "\n",
    "classifier=Sequential()\n",
    "\n",
    "#卷積組合\n",
    "classifier.add(Convolution2D(32,kernel_size=(3,3),input_shape= (32,32,3), activation = 'relu'))#32,3,3,input_shape=(32,32,3),activation='relu''\n",
    "classifier.add(BatchNormalization())\n",
    "\n",
    "'''自己決定MaxPooling2D放在哪裡'''\n",
    "classifier.add(MaxPooling2D(pool_size=(2,2)))\n",
    "\n",
    "#卷積組合\n",
    "classifier.add(Convolution2D(64,kernel_size=(4,4)))\n",
    "classifier.add(BatchNormalization())\n",
    "\n",
    "#flatten\n",
    "classifier.add(Flatten())\n",
    "\n",
    "#FC\n",
    "classifier.add(Dense(units=100, activation = 'relu')) #output_dim=100,activation=relu\n",
    "               \n",
    "#輸出\n",
    "classifier.add(Dense(units=10, activation = 'softmax'))\n",
    "               \n",
    "#超過兩個就要選categorical_crossentrophy\n",
    "classifier.compile(optimizer = 'adam', loss = 'categorical_crossentropy', metrics = ['accuracy'])\n",
    "classifier.fit(x_train,y_train,batch_size=100,epochs=100)"
   ]
  },
  {
   "cell_type": "markdown",
   "metadata": {},
   "source": [
    "## 預測新圖片，輸入影像前處理要與訓練時相同\n",
    "#### ((X-mean)/(std+1e-7) ):這裡的mean跟std是訓練集的\n",
    "## 維度如下方示範"
   ]
  },
  {
   "cell_type": "code",
   "execution_count": 16,
   "metadata": {},
   "outputs": [
    {
     "data": {
      "text/plain": [
       "array([[8.6829023e-05, 4.9923351e-06, 3.1345704e-07, 8.9464217e-01,\n",
       "        1.0501981e-01, 8.9941764e-08, 2.5749476e-09, 2.4568135e-04,\n",
       "        1.3331296e-08, 4.0483363e-12]], dtype=float32)"
      ]
     },
     "execution_count": 16,
     "metadata": {},
     "output_type": "execute_result"
    }
   ],
   "source": [
    "input_example=(np.zeros(shape=(1,32,32,3))-mean_train)/(std_train+1e-7) \n",
    "classifier.predict(input_example)"
   ]
  },
  {
   "cell_type": "code",
   "execution_count": null,
   "metadata": {},
   "outputs": [],
   "source": []
  }
 ],
 "metadata": {
  "kernelspec": {
   "display_name": "Python 3",
   "language": "python",
   "name": "python3"
  },
  "language_info": {
   "codemirror_mode": {
    "name": "ipython",
    "version": 3
   },
   "file_extension": ".py",
   "mimetype": "text/x-python",
   "name": "python",
   "nbconvert_exporter": "python",
   "pygments_lexer": "ipython3",
   "version": "3.7.4"
  }
 },
 "nbformat": 4,
 "nbformat_minor": 2
}
