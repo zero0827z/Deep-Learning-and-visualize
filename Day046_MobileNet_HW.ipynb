{
  "nbformat": 4,
  "nbformat_minor": 0,
  "metadata": {
    "kernelspec": {
      "display_name": "Python 3",
      "language": "python",
      "name": "python3"
    },
    "language_info": {
      "codemirror_mode": {
        "name": "ipython",
        "version": 3
      },
      "file_extension": ".py",
      "mimetype": "text/x-python",
      "name": "python",
      "nbconvert_exporter": "python",
      "pygments_lexer": "ipython3",
      "version": "3.5.4"
    },
    "colab": {
      "name": "Day046_MobileNet_HW.ipynb",
      "provenance": [],
      "collapsed_sections": []
    }
  },
  "cells": [
    {
      "cell_type": "markdown",
      "metadata": {
        "id": "cy5XajDGVN3Y",
        "colab_type": "text"
      },
      "source": [
        "# 作業"
      ]
    },
    {
      "cell_type": "markdown",
      "metadata": {
        "id": "YIalggb5VN3Z",
        "colab_type": "text"
      },
      "source": [
        "### 嘗試用 keras 的 DepthwiseConv2D 等 layers 實做 Separable Convolution.\n",
        "   - depthwise's filter shape 爲 (3,3), padding = same\n",
        "   - pointwise's filters size 爲 128\n",
        "   - 不需要給 alpha, depth multiplier 參數"
      ]
    },
    {
      "cell_type": "markdown",
      "metadata": {
        "id": "20QmC7cJVN3a",
        "colab_type": "text"
      },
      "source": [
        "##### 載入套件"
      ]
    },
    {
      "cell_type": "code",
      "metadata": {
        "id": "8W1oRfB8VN3a",
        "colab_type": "code",
        "colab": {
          "base_uri": "https://localhost:8080/",
          "height": 34
        },
        "outputId": "ec075428-b4c3-484b-99a6-2b393fb9b91b"
      },
      "source": [
        "from keras.models import Input, Model\n",
        "from keras.layers import DepthwiseConv2D, Conv2D, BatchNormalization, ReLU"
      ],
      "execution_count": 1,
      "outputs": [
        {
          "output_type": "stream",
          "text": [
            "Using TensorFlow backend.\n"
          ],
          "name": "stderr"
        }
      ]
    },
    {
      "cell_type": "markdown",
      "metadata": {
        "id": "DqPZdbRxVN3d",
        "colab_type": "text"
      },
      "source": [
        "##### 定義 Separable Convolution 函數 (請在此實做)"
      ]
    },
    {
      "cell_type": "code",
      "metadata": {
        "id": "6kgOj-BxVN3d",
        "colab_type": "code",
        "colab": {}
      },
      "source": [
        "def SeparableConv(input):\n",
        "    '''\n",
        "    Args:\n",
        "        input: input tensor\n",
        "    Output:\n",
        "        output: output tensor\n",
        "    '''\n",
        "    output=DepthwiseConv2D(kernel_size=(3,3),strides=(1,1),padding='same')(input)\n",
        "    output=BatchNormalization()(output)\n",
        "    output=ReLU()(output)\n",
        "    output=Conv2D(filters=128,kernel_size=(1,1),strides=(1,1),padding='same')(output)\n",
        "    output=BatchNormalization()(output)\n",
        "    Output=ReLU()(output)\n",
        "\n",
        "    return output\n"
      ],
      "execution_count": 0,
      "outputs": []
    },
    {
      "cell_type": "markdown",
      "metadata": {
        "id": "UAuOAo8UVN3g",
        "colab_type": "text"
      },
      "source": [
        "##### 建構模型"
      ]
    },
    {
      "cell_type": "code",
      "metadata": {
        "id": "ZpiGVr_oVN3g",
        "colab_type": "code",
        "colab": {
          "base_uri": "https://localhost:8080/",
          "height": 353
        },
        "outputId": "2ab686f9-f0cc-478c-e546-c31162e34062"
      },
      "source": [
        "input = Input((64, 64, 3))\n",
        "output = SeparableConv(input)\n",
        "model = Model(inputs=input, outputs=output)\n",
        "model.summary()"
      ],
      "execution_count": 5,
      "outputs": [
        {
          "output_type": "stream",
          "text": [
            "Model: \"model_1\"\n",
            "_________________________________________________________________\n",
            "Layer (type)                 Output Shape              Param #   \n",
            "=================================================================\n",
            "input_2 (InputLayer)         (None, 64, 64, 3)         0         \n",
            "_________________________________________________________________\n",
            "depthwise_conv2d_2 (Depthwis (None, 64, 64, 3)         30        \n",
            "_________________________________________________________________\n",
            "batch_normalization_2 (Batch (None, 64, 64, 3)         12        \n",
            "_________________________________________________________________\n",
            "re_lu_2 (ReLU)               (None, 64, 64, 3)         0         \n",
            "_________________________________________________________________\n",
            "conv2d_1 (Conv2D)            (None, 64, 64, 128)       512       \n",
            "_________________________________________________________________\n",
            "batch_normalization_3 (Batch (None, 64, 64, 128)       512       \n",
            "=================================================================\n",
            "Total params: 1,066\n",
            "Trainable params: 804\n",
            "Non-trainable params: 262\n",
            "_________________________________________________________________\n"
          ],
          "name": "stdout"
        }
      ]
    },
    {
      "cell_type": "code",
      "metadata": {
        "id": "vsE7eIJXVN3j",
        "colab_type": "code",
        "colab": {}
      },
      "source": [
        ""
      ],
      "execution_count": 0,
      "outputs": []
    }
  ]
}