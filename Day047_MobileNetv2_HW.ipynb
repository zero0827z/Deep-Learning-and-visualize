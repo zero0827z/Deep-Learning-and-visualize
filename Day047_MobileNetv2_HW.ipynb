{
  "nbformat": 4,
  "nbformat_minor": 0,
  "metadata": {
    "kernelspec": {
      "display_name": "Python 3",
      "language": "python",
      "name": "python3"
    },
    "language_info": {
      "codemirror_mode": {
        "name": "ipython",
        "version": 3
      },
      "file_extension": ".py",
      "mimetype": "text/x-python",
      "name": "python",
      "nbconvert_exporter": "python",
      "pygments_lexer": "ipython3",
      "version": "3.5.4"
    },
    "colab": {
      "name": "Day047_MobileNetv2_HW.ipynb",
      "provenance": [],
      "collapsed_sections": []
    }
  },
  "cells": [
    {
      "cell_type": "markdown",
      "metadata": {
        "id": "XhbIzS2ZXST8",
        "colab_type": "text"
      },
      "source": [
        "# 作業"
      ]
    },
    {
      "cell_type": "markdown",
      "metadata": {
        "id": "9LCQoxgWXST-",
        "colab_type": "text"
      },
      "source": [
        "### 嘗試用 keras 的 DepthwiseConv2D 等 layers 實做 Inverted Residual Block.\n",
        "   - depthwise's filter shape 爲 (3,3), padding = same\n",
        "   - 不需要給 alpha, depth multiplier 參數\n",
        "   - expansion 因子爲 6"
      ]
    },
    {
      "cell_type": "markdown",
      "metadata": {
        "id": "2GELH23EXST_",
        "colab_type": "text"
      },
      "source": [
        "##### 載入套件"
      ]
    },
    {
      "cell_type": "code",
      "metadata": {
        "id": "MbvZwu9YXSUA",
        "colab_type": "code",
        "colab": {}
      },
      "source": [
        "from keras.models import Input, Model\n",
        "from keras.layers import DepthwiseConv2D, Conv2D, BatchNormalization, ReLU, Add"
      ],
      "execution_count": 0,
      "outputs": []
    },
    {
      "cell_type": "markdown",
      "metadata": {
        "id": "z0ErIOJ9XSUG",
        "colab_type": "text"
      },
      "source": [
        "##### 定義 Separable Convolution 函數 (請在此實做)"
      ]
    },
    {
      "cell_type": "code",
      "metadata": {
        "id": "nximdEAbXSUH",
        "colab_type": "code",
        "colab": {}
      },
      "source": [
        "def InvertedRes(input, expansion):\n",
        "    '''\n",
        "    Args:\n",
        "        input: input tensor\n",
        "        expansion: expand filters size\n",
        "    Output:\n",
        "        output: output tensor\n",
        "    '''\n",
        "    #Conv1*1+ReLU6 layer\n",
        "    output=Conv2D(expansion*3,kernel_size=(1,1),strides=(1,1),padding='same')(input)\n",
        "    output=BatchNormalization()(output)\n",
        "    output=ReLU(6)(output)\n",
        "\n",
        "    #Dwise 3*3+ReLU6 layer\n",
        "    output=DepthwiseConv2D(kernel_size=(3,3),strides=(1,1),padding='same')(output)\n",
        "    output=BatchNormalization()(output)\n",
        "    output=ReLU(6)(output)\n",
        "\n",
        "    #Conv1*1+Linear layer\n",
        "    output=Conv2D(3,kernel_size=(1,1),strides=(1,1),padding='same')(output)\n",
        "    output=BatchNormalization()(output)\n",
        "    output=ReLU(6)(output)\n",
        "\n",
        "    #add layer\n",
        "    output=Add()([output,input])\n",
        "\n",
        "    return output\n"
      ],
      "execution_count": 0,
      "outputs": []
    },
    {
      "cell_type": "markdown",
      "metadata": {
        "id": "MVLqxANMXSUL",
        "colab_type": "text"
      },
      "source": [
        "##### 建構模型"
      ]
    },
    {
      "cell_type": "code",
      "metadata": {
        "id": "DGvJGLlYXSUM",
        "colab_type": "code",
        "colab": {
          "base_uri": "https://localhost:8080/",
          "height": 538
        },
        "outputId": "3b0c2c40-e344-476f-8274-e9371eebc9b3"
      },
      "source": [
        "input = Input((64, 64, 3))\n",
        "output = InvertedRes(input, 6)\n",
        "model = Model(inputs=input, outputs=output)\n",
        "model.summary()"
      ],
      "execution_count": 9,
      "outputs": [
        {
          "output_type": "stream",
          "text": [
            "Model: \"model_1\"\n",
            "__________________________________________________________________________________________________\n",
            "Layer (type)                    Output Shape         Param #     Connected to                     \n",
            "==================================================================================================\n",
            "input_3 (InputLayer)            (None, 64, 64, 3)    0                                            \n",
            "__________________________________________________________________________________________________\n",
            "conv2d_3 (Conv2D)               (None, 64, 64, 18)   72          input_3[0][0]                    \n",
            "__________________________________________________________________________________________________\n",
            "batch_normalization_4 (BatchNor (None, 64, 64, 18)   72          conv2d_3[0][0]                   \n",
            "__________________________________________________________________________________________________\n",
            "re_lu_4 (ReLU)                  (None, 64, 64, 18)   0           batch_normalization_4[0][0]      \n",
            "__________________________________________________________________________________________________\n",
            "depthwise_conv2d_2 (DepthwiseCo (None, 64, 64, 18)   180         re_lu_4[0][0]                    \n",
            "__________________________________________________________________________________________________\n",
            "batch_normalization_5 (BatchNor (None, 64, 64, 18)   72          depthwise_conv2d_2[0][0]         \n",
            "__________________________________________________________________________________________________\n",
            "re_lu_5 (ReLU)                  (None, 64, 64, 18)   0           batch_normalization_5[0][0]      \n",
            "__________________________________________________________________________________________________\n",
            "conv2d_4 (Conv2D)               (None, 64, 64, 3)    57          re_lu_5[0][0]                    \n",
            "__________________________________________________________________________________________________\n",
            "batch_normalization_6 (BatchNor (None, 64, 64, 3)    12          conv2d_4[0][0]                   \n",
            "__________________________________________________________________________________________________\n",
            "re_lu_6 (ReLU)                  (None, 64, 64, 3)    0           batch_normalization_6[0][0]      \n",
            "__________________________________________________________________________________________________\n",
            "add_1 (Add)                     (None, 64, 64, 3)    0           re_lu_6[0][0]                    \n",
            "                                                                 input_3[0][0]                    \n",
            "==================================================================================================\n",
            "Total params: 465\n",
            "Trainable params: 387\n",
            "Non-trainable params: 78\n",
            "__________________________________________________________________________________________________\n"
          ],
          "name": "stdout"
        }
      ]
    },
    {
      "cell_type": "code",
      "metadata": {
        "id": "Dg5JFJEZXSUR",
        "colab_type": "code",
        "colab": {}
      },
      "source": [
        ""
      ],
      "execution_count": 0,
      "outputs": []
    }
  ]
}