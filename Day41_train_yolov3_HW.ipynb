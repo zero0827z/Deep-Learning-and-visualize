{
 "cells": [
  {
   "cell_type": "markdown",
   "metadata": {
    "colab_type": "text",
    "id": "CG77DrrB2CrU"
   },
   "source": [
    "## 作業\n",
    "\n",
    "1. 如何使用已經訓練好的模型？\n",
    "2. 依照 https://github.com/qqwweee/keras-yolo3 的程式碼，請敘述，訓練模型時，資料集的格式是什麼？具體一點的說，要提供什麼格式的文件來描述資料集的圖片以及 bboxes 的信息呢？\n",
    "\n",
    "\n",
    "\n"
   ]
  },
  {
   "cell_type": "code",
   "execution_count": null,
   "metadata": {
    "colab": {
     "base_uri": "https://localhost:8080/",
     "height": 122
    },
    "colab_type": "code",
    "executionInfo": {
     "elapsed": 3899,
     "status": "ok",
     "timestamp": 1576082714890,
     "user": {
      "displayName": "杜靖愷",
      "photoUrl": "https://lh3.googleusercontent.com/a-/AAuE7mCXX8JZZ0DBZWt2P1EC5LvipxZDIWxKz2uCJ7bzpQ=s64",
      "userId": "03195633593178984431"
     },
     "user_tz": -480
    },
    "id": "NCEP-DG0VxlV",
    "outputId": "5adc330a-85ba-4196-ce0e-5455f58c127e"
   },
   "outputs": [],
   "source": [
    "%tensorflow_version 1.x # 確保 colob 中使用的 tensorflow 是 1.x 版本而不是 tensorflow 2\n",
    "import tensorflow as tf\n",
    "print(tf.__version__)"
   ]
  },
  {
   "cell_type": "code",
   "execution_count": null,
   "metadata": {
    "colab": {
     "base_uri": "https://localhost:8080/",
     "height": 281
    },
    "colab_type": "code",
    "executionInfo": {
     "elapsed": 10841,
     "status": "ok",
     "timestamp": 1576082721843,
     "user": {
      "displayName": "杜靖愷",
      "photoUrl": "https://lh3.googleusercontent.com/a-/AAuE7mCXX8JZZ0DBZWt2P1EC5LvipxZDIWxKz2uCJ7bzpQ=s64",
      "userId": "03195633593178984431"
     },
     "user_tz": -480
    },
    "id": "eXT7SQe0KQxv",
    "outputId": "444de4be-8b57-432a-defc-2feeaf15cd6f"
   },
   "outputs": [],
   "source": [
    "pip install keras==2.2.4 # 需要安裝 keras 2.2.4 的版本"
   ]
  },
  {
   "cell_type": "code",
   "execution_count": null,
   "metadata": {
    "colab": {
     "base_uri": "https://localhost:8080/",
     "height": 160
    },
    "colab_type": "code",
    "executionInfo": {
     "elapsed": 38122,
     "status": "ok",
     "timestamp": 1576082749134,
     "user": {
      "displayName": "杜靖愷",
      "photoUrl": "https://lh3.googleusercontent.com/a-/AAuE7mCXX8JZZ0DBZWt2P1EC5LvipxZDIWxKz2uCJ7bzpQ=s64",
      "userId": "03195633593178984431"
     },
     "user_tz": -480
    },
    "id": "vELO-PTVxAtm",
    "outputId": "bedd9495-2989-4782-cfed-1b414ef42b3d"
   },
   "outputs": [],
   "source": [
    "from google.colab import drive \n",
    "drive.mount('/content/gdrive') # 將 google drive 掛載在 colob，\n",
    "# 下載基於 keras 的 yolov3 程式碼\n",
    "%cd 'gdrive/My Drive'\n",
    "# !git clone https://github.com/qqwweee/keras-yolo3 # 如果之前已經下載過就可以註解掉\n",
    "%cd keras-yolo3"
   ]
  },
  {
   "cell_type": "code",
   "execution_count": null,
   "metadata": {
    "colab": {},
    "colab_type": "code",
    "collapsed": true,
    "id": "k0MyCUeRuARA"
   },
   "outputs": [],
   "source": [
    "from PIL import Image\n",
    "image = Image.open('dog.jpg') "
   ]
  },
  {
   "cell_type": "code",
   "execution_count": 3,
   "metadata": {
    "colab": {},
    "colab_type": "code",
    "id": "ooyy53TW5c0L"
   },
   "outputs": [
    {
     "name": "stdout",
     "output_type": "stream",
     "text": [
      "1.利用keras.model.load_model來載入h5格式的檔案，或利用YOLO權重轉換成keras模型\n",
      "2.\n",
      "YOLO需要<object-class> <x> <y> <width> <height>這5個資訊，如以Pascal VOC資料集為例：dataset：資料集圖像(.jpg)、標註檔(.xml)，bboxes需要的訊息存放在標註檔內，且也存放著該圖片的class.names：存放object-classtrain.txt：存放訓練圖像名稱test.txt：存放測試圖像名稱\n"
     ]
    }
   ],
   "source": [
    "print('1.利用keras.model.load_model來載入h5格式的檔案，或利用YOLO權重轉換成keras模型')\n",
    "print('2.')\n",
    "print('YOLO需要<object-class> <x> <y> <width> <height>這5個資訊，如以Pascal VOC資料集為例：'\n",
    "'dataset：資料集圖像(.jpg)、標註檔(.xml)，bboxes需要的訊息存放在標註檔內，且也存放著該圖片的class'\n",
    "'.names：存放object-class'\n",
    "'train.txt：存放訓練圖像名稱'\n",
    "'test.txt：存放測試圖像名稱')"
   ]
  },
  {
   "cell_type": "code",
   "execution_count": null,
   "metadata": {},
   "outputs": [],
   "source": []
  }
 ],
 "metadata": {
  "accelerator": "GPU",
  "colab": {
   "collapsed_sections": [],
   "name": "Day41_train_yolov3_HW.ipynb",
   "provenance": []
  },
  "kernelspec": {
   "display_name": "Python 3",
   "language": "python",
   "name": "python3"
  },
  "language_info": {
   "codemirror_mode": {
    "name": "ipython",
    "version": 3
   },
   "file_extension": ".py",
   "mimetype": "text/x-python",
   "name": "python",
   "nbconvert_exporter": "python",
   "pygments_lexer": "ipython3",
   "version": "3.7.4"
  }
 },
 "nbformat": 4,
 "nbformat_minor": 1
}
